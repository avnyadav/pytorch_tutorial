{
 "cells": [
  {
   "cell_type": "code",
   "execution_count": 8,
   "id": "e85985f7-8ceb-4a54-ae38-e79fc0023157",
   "metadata": {},
   "outputs": [],
   "source": [
    "class Demo:\n",
    "    \n",
    "    sir_name:str = \"Yadav\"\n",
    "    \n",
    "    def __init__(self,name):\n",
    "        print(\"__init__ called from demo\")\n",
    "        self.name=name"
   ]
  },
  {
   "cell_type": "code",
   "execution_count": 11,
   "id": "fb673fa6-1b92-423c-ad0d-4d16ac69837e",
   "metadata": {},
   "outputs": [],
   "source": [
    "class AvnishDemo(Demo):\n",
    "    \n",
    "    sir_name:str = \"Yadav Avnish\"\n",
    "    "
   ]
  },
  {
   "cell_type": "code",
   "execution_count": 12,
   "id": "9e9ff580-580f-4045-b3ac-89069556ac4c",
   "metadata": {},
   "outputs": [
    {
     "name": "stdout",
     "output_type": "stream",
     "text": [
      "__init__ called from demo\n"
     ]
    },
    {
     "data": {
      "text/plain": [
       "<__main__.AvnishDemo at 0x7f28ad7794e0>"
      ]
     },
     "execution_count": 12,
     "metadata": {},
     "output_type": "execute_result"
    }
   ],
   "source": [
    "AvnishDemo(name=\"Avnish\")"
   ]
  },
  {
   "cell_type": "code",
   "execution_count": null,
   "id": "4ce1fc7c-8b3f-4f71-a58f-dc9fb80651c6",
   "metadata": {},
   "outputs": [],
   "source": []
  },
  {
   "cell_type": "code",
   "execution_count": null,
   "id": "fbd3055c-58ff-47a0-a7e6-6bd826be7dae",
   "metadata": {},
   "outputs": [],
   "source": []
  }
 ],
 "metadata": {
  "kernelspec": {
   "display_name": "Python 3 (ipykernel)",
   "language": "python",
   "name": "python3"
  },
  "language_info": {
   "codemirror_mode": {
    "name": "ipython",
    "version": 3
   },
   "file_extension": ".py",
   "mimetype": "text/x-python",
   "name": "python",
   "nbconvert_exporter": "python",
   "pygments_lexer": "ipython3",
   "version": "3.7.0"
  }
 },
 "nbformat": 4,
 "nbformat_minor": 5
}
