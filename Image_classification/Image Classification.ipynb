{
 "cells": [
  {
   "cell_type": "code",
   "execution_count": 29,
   "id": "9c0c00eb-b968-43a1-a8c4-4885f1ac9924",
   "metadata": {},
   "outputs": [],
   "source": [
    "import warnings\n",
    "warnings.filterwarnings('ignore')"
   ]
  },
  {
   "cell_type": "code",
   "execution_count": 30,
   "id": "47fbee06-6e90-4df5-aff8-4a2fd704d30a",
   "metadata": {},
   "outputs": [],
   "source": [
    "import tensorflow as tf\n",
    "import numpy as np"
   ]
  },
  {
   "cell_type": "code",
   "execution_count": 31,
   "id": "b1e5fe38-b5b2-42ef-8091-63f82a364ca8",
   "metadata": {},
   "outputs": [],
   "source": [
    "from tensorflow import keras"
   ]
  },
  {
   "cell_type": "markdown",
   "id": "47715585-73b3-4af8-8365-9e4934c3148b",
   "metadata": {},
   "source": [
    "## Fashion MNIST dataset"
   ]
  },
  {
   "cell_type": "code",
   "execution_count": 32,
   "id": "5ad67bf4-b968-4e13-bec8-2a654261526c",
   "metadata": {},
   "outputs": [],
   "source": [
    "fashion_mnist = keras.datasets.fashion_mnist"
   ]
  },
  {
   "cell_type": "code",
   "execution_count": 33,
   "id": "fd0297a9-d794-40fc-b5f6-dacc75467cee",
   "metadata": {},
   "outputs": [],
   "source": [
    "(x_train, y_train), (x_test, y_test)=fashion_mnist.load_data()"
   ]
  },
  {
   "cell_type": "code",
   "execution_count": 34,
   "id": "a45db366-307d-4423-b4f5-c2499b38f9f3",
   "metadata": {},
   "outputs": [
    {
     "data": {
      "text/plain": [
       "((60000, 28, 28), (60000,))"
      ]
     },
     "execution_count": 34,
     "metadata": {},
     "output_type": "execute_result"
    }
   ],
   "source": [
    "x_train.shape,y_train.shape"
   ]
  },
  {
   "cell_type": "code",
   "execution_count": 35,
   "id": "d6dec207-24da-41ea-9896-bbf58ba2de2b",
   "metadata": {},
   "outputs": [],
   "source": [
    "x_valid,x_train = x_train[:5000]/255.0,x_train[5000:]/255.0\n",
    "y_valid,y_train = y_train[:5000], y_train[5000:]"
   ]
  },
  {
   "cell_type": "code",
   "execution_count": 36,
   "id": "94e365b7-c913-4971-bbd9-bdd3b989d058",
   "metadata": {},
   "outputs": [
    {
     "data": {
      "text/plain": [
       "[(5000, 28, 28), (55000, 28, 28)]"
      ]
     },
     "execution_count": 36,
     "metadata": {},
     "output_type": "execute_result"
    }
   ],
   "source": [
    "list(map(np.shape,[x_valid,x_train]))"
   ]
  },
  {
   "cell_type": "code",
   "execution_count": 37,
   "id": "6a6fd639-8185-4b9a-9879-c0cff84de93c",
   "metadata": {},
   "outputs": [
    {
     "data": {
      "text/plain": [
       "4"
      ]
     },
     "execution_count": 37,
     "metadata": {},
     "output_type": "execute_result"
    }
   ],
   "source": [
    "y_train[0]"
   ]
  },
  {
   "cell_type": "code",
   "execution_count": 38,
   "id": "b9921b61-3d50-4e86-b8c2-89d2def72ad3",
   "metadata": {},
   "outputs": [],
   "source": [
    "class_names=\"T-shirt/top,Trouser,Pullover,Dress,Coat,Sandal,Shirt,Sneaker,Bag,Ankle boot\".split(\",\")"
   ]
  },
  {
   "cell_type": "code",
   "execution_count": 39,
   "id": "9638d8e6-efd9-4cf1-bd18-df12b8bde922",
   "metadata": {},
   "outputs": [
    {
     "data": {
      "text/plain": [
       "'Coat'"
      ]
     },
     "execution_count": 39,
     "metadata": {},
     "output_type": "execute_result"
    }
   ],
   "source": [
    "class_names[y_train[0]]"
   ]
  },
  {
   "cell_type": "code",
   "execution_count": 40,
   "id": "daffdcee-b856-4758-b1af-9e648b36e8f9",
   "metadata": {},
   "outputs": [],
   "source": [
    "model=keras.models.Sequential(name=\"Fashion-Mnist-Classification-Model\")\n"
   ]
  },
  {
   "cell_type": "code",
   "execution_count": 41,
   "id": "97d8ac15-4305-41f5-9fe0-613b07dd9bb1",
   "metadata": {},
   "outputs": [],
   "source": [
    "from keras.layers.core.dense import Dense"
   ]
  },
  {
   "cell_type": "code",
   "execution_count": 42,
   "id": "9e7ee7e1-7c90-491d-8af2-108eec8d8788",
   "metadata": {},
   "outputs": [],
   "source": [
    "model.add(keras.layers.Flatten(input_shape=[28,28]))"
   ]
  },
  {
   "cell_type": "code",
   "execution_count": 43,
   "id": "89e26c0b-ef2d-4594-88ab-98d8ad03d77a",
   "metadata": {},
   "outputs": [],
   "source": [
    "model.add(Dense(units=300, activation=\"relu\"))"
   ]
  },
  {
   "cell_type": "code",
   "execution_count": 44,
   "id": "732c0083-95ad-4759-a0e3-027996ad4ce6",
   "metadata": {},
   "outputs": [],
   "source": [
    "model.add(Dense(units=100, activation=\"relu\"))"
   ]
  },
  {
   "cell_type": "code",
   "execution_count": 45,
   "id": "023a06c6-d262-475c-8fa6-0468c0131f85",
   "metadata": {},
   "outputs": [],
   "source": [
    "model.add(Dense(units=10, activation=\"softmax\"))"
   ]
  },
  {
   "cell_type": "code",
   "execution_count": 46,
   "id": "b6a38167-f404-4394-a8c8-f9afae11f060",
   "metadata": {},
   "outputs": [
    {
     "name": "stdout",
     "output_type": "stream",
     "text": [
      "Model: \"Fashion-Mnist-Classification-Model\"\n",
      "_________________________________________________________________\n",
      " Layer (type)                Output Shape              Param #   \n",
      "=================================================================\n",
      " flatten_1 (Flatten)         (None, 784)               0         \n",
      "                                                                 \n",
      " dense_3 (Dense)             (None, 300)               235500    \n",
      "                                                                 \n",
      " dense_4 (Dense)             (None, 100)               30100     \n",
      "                                                                 \n",
      " dense_5 (Dense)             (None, 10)                1010      \n",
      "                                                                 \n",
      "=================================================================\n",
      "Total params: 266,610\n",
      "Trainable params: 266,610\n",
      "Non-trainable params: 0\n",
      "_________________________________________________________________\n"
     ]
    }
   ],
   "source": [
    "model.summary()"
   ]
  },
  {
   "cell_type": "code",
   "execution_count": 47,
   "id": "2548c8c9-62d4-45b8-9e98-914b5867568b",
   "metadata": {},
   "outputs": [
    {
     "data": {
      "text/plain": [
       "235500"
      ]
     },
     "execution_count": 47,
     "metadata": {},
     "output_type": "execute_result"
    }
   ],
   "source": [
    "784*300+300"
   ]
  },
  {
   "cell_type": "markdown",
   "id": "55b02dd0-2faf-4c89-b6dc-8e9865eada6f",
   "metadata": {},
   "source": [
    "## Checking the return type of get_weights function of layers object"
   ]
  },
  {
   "cell_type": "code",
   "execution_count": 48,
   "id": "e70eff81-56c2-4704-b1db-6b6c692ab149",
   "metadata": {},
   "outputs": [
    {
     "data": {
      "text/plain": [
       "[list, list, list]"
      ]
     },
     "execution_count": 48,
     "metadata": {},
     "output_type": "execute_result"
    }
   ],
   "source": [
    "list(map(lambda x:type(x.get_weights()),model.layers[1:]))"
   ]
  },
  {
   "cell_type": "markdown",
   "id": "1b80d3b3-07f3-471d-b18a-69419d9c95fe",
   "metadata": {},
   "source": [
    "## Checking the length of list"
   ]
  },
  {
   "cell_type": "code",
   "execution_count": 49,
   "id": "a40fdb0d-518c-4794-89e3-f85b5b727432",
   "metadata": {},
   "outputs": [
    {
     "data": {
      "text/plain": [
       "[2, 2, 2]"
      ]
     },
     "execution_count": 49,
     "metadata": {},
     "output_type": "execute_result"
    }
   ],
   "source": [
    "list(map(lambda x:len(x.get_weights()),model.layers[1:]))"
   ]
  },
  {
   "cell_type": "markdown",
   "id": "d579b347-7e3d-42a7-a981-756c96d44dca",
   "metadata": {},
   "source": [
    "## Checking the shape of each element as every item in list is array"
   ]
  },
  {
   "cell_type": "code",
   "execution_count": 50,
   "id": "ff3817b2-f605-4733-bf83-0bf41081f43c",
   "metadata": {},
   "outputs": [
    {
     "data": {
      "text/plain": [
       "[(784, 300), (300, 100), (100, 10)]"
      ]
     },
     "execution_count": 50,
     "metadata": {},
     "output_type": "execute_result"
    }
   ],
   "source": [
    "list(map(lambda x:x.get_weights()[0].shape,model.layers[1:]))"
   ]
  },
  {
   "cell_type": "code",
   "execution_count": 51,
   "id": "c83c3dd7-7aca-4b62-ac2b-54d914c9e047",
   "metadata": {},
   "outputs": [],
   "source": [
    "## Checking the bias for each layer of hidden layer"
   ]
  },
  {
   "cell_type": "code",
   "execution_count": 52,
   "id": "9469111a-d711-4d11-9abe-5924da7dbee8",
   "metadata": {},
   "outputs": [
    {
     "data": {
      "text/plain": [
       "[(300,), (100,), (10,)]"
      ]
     },
     "execution_count": 52,
     "metadata": {},
     "output_type": "execute_result"
    }
   ],
   "source": [
    "list(map(lambda x:x.get_weights()[1].shape,model.layers[1:]))"
   ]
  },
  {
   "cell_type": "code",
   "execution_count": 53,
   "id": "fa5a2535-ef5a-431e-8281-6e5e097bb2bd",
   "metadata": {},
   "outputs": [],
   "source": [
    "model.compile(optimizer=\"sgd\",\n",
    "              loss=keras.losses.sparse_categorical_crossentropy,\n",
    "              metrics=[keras.metrics.sparse_categorical_accuracy]\n",
    "             )              "
   ]
  },
  {
   "cell_type": "code",
   "execution_count": 54,
   "id": "632fd6fd-4422-4813-81a6-78290cbae944",
   "metadata": {},
   "outputs": [
    {
     "name": "stdout",
     "output_type": "stream",
     "text": [
      "Epoch 1/30\n",
      "1719/1719 [==============================] - 2s 929us/step - loss: 0.7301 - sparse_categorical_accuracy: 0.7580 - val_loss: 0.5003 - val_sparse_categorical_accuracy: 0.8330\n",
      "Epoch 2/30\n",
      "1719/1719 [==============================] - 2s 892us/step - loss: 0.4916 - sparse_categorical_accuracy: 0.8285 - val_loss: 0.4621 - val_sparse_categorical_accuracy: 0.8372\n",
      "Epoch 3/30\n",
      "1719/1719 [==============================] - 2s 889us/step - loss: 0.4452 - sparse_categorical_accuracy: 0.8427 - val_loss: 0.4428 - val_sparse_categorical_accuracy: 0.8448\n",
      "Epoch 4/30\n",
      "1719/1719 [==============================] - 2s 891us/step - loss: 0.4178 - sparse_categorical_accuracy: 0.8521 - val_loss: 0.3929 - val_sparse_categorical_accuracy: 0.8644\n",
      "Epoch 5/30\n",
      "1719/1719 [==============================] - 2s 923us/step - loss: 0.3973 - sparse_categorical_accuracy: 0.8605 - val_loss: 0.3808 - val_sparse_categorical_accuracy: 0.8692\n",
      "Epoch 6/30\n",
      "1719/1719 [==============================] - 2s 909us/step - loss: 0.3807 - sparse_categorical_accuracy: 0.8658 - val_loss: 0.3795 - val_sparse_categorical_accuracy: 0.8670\n",
      "Epoch 7/30\n",
      "1719/1719 [==============================] - 2s 884us/step - loss: 0.3681 - sparse_categorical_accuracy: 0.8702 - val_loss: 0.3943 - val_sparse_categorical_accuracy: 0.8566\n",
      "Epoch 8/30\n",
      "1719/1719 [==============================] - 2s 923us/step - loss: 0.3553 - sparse_categorical_accuracy: 0.8742 - val_loss: 0.3574 - val_sparse_categorical_accuracy: 0.8754\n",
      "Epoch 9/30\n",
      "1719/1719 [==============================] - 2s 970us/step - loss: 0.3443 - sparse_categorical_accuracy: 0.8772 - val_loss: 0.3535 - val_sparse_categorical_accuracy: 0.8752\n",
      "Epoch 10/30\n",
      "1719/1719 [==============================] - 2s 893us/step - loss: 0.3354 - sparse_categorical_accuracy: 0.8812 - val_loss: 0.3530 - val_sparse_categorical_accuracy: 0.8676\n",
      "Epoch 11/30\n",
      "1719/1719 [==============================] - 2s 894us/step - loss: 0.3268 - sparse_categorical_accuracy: 0.8830 - val_loss: 0.3580 - val_sparse_categorical_accuracy: 0.8676\n",
      "Epoch 12/30\n",
      "1719/1719 [==============================] - 2s 933us/step - loss: 0.3194 - sparse_categorical_accuracy: 0.8859 - val_loss: 0.3342 - val_sparse_categorical_accuracy: 0.8790\n",
      "Epoch 13/30\n",
      "1719/1719 [==============================] - 2s 891us/step - loss: 0.3108 - sparse_categorical_accuracy: 0.8891 - val_loss: 0.3261 - val_sparse_categorical_accuracy: 0.8820\n",
      "Epoch 14/30\n",
      "1719/1719 [==============================] - 2s 891us/step - loss: 0.3052 - sparse_categorical_accuracy: 0.8903 - val_loss: 0.3410 - val_sparse_categorical_accuracy: 0.8792\n",
      "Epoch 15/30\n",
      "1719/1719 [==============================] - 2s 891us/step - loss: 0.2983 - sparse_categorical_accuracy: 0.8928 - val_loss: 0.3247 - val_sparse_categorical_accuracy: 0.8814\n",
      "Epoch 16/30\n",
      "1719/1719 [==============================] - 2s 894us/step - loss: 0.2927 - sparse_categorical_accuracy: 0.8938 - val_loss: 0.3279 - val_sparse_categorical_accuracy: 0.8802\n",
      "Epoch 17/30\n",
      "1719/1719 [==============================] - 2s 900us/step - loss: 0.2871 - sparse_categorical_accuracy: 0.8969 - val_loss: 0.3172 - val_sparse_categorical_accuracy: 0.8848\n",
      "Epoch 18/30\n",
      "1719/1719 [==============================] - 2s 907us/step - loss: 0.2810 - sparse_categorical_accuracy: 0.8979 - val_loss: 0.3195 - val_sparse_categorical_accuracy: 0.8846\n",
      "Epoch 19/30\n",
      "1719/1719 [==============================] - 2s 896us/step - loss: 0.2753 - sparse_categorical_accuracy: 0.9001 - val_loss: 0.3056 - val_sparse_categorical_accuracy: 0.8922\n",
      "Epoch 20/30\n",
      "1719/1719 [==============================] - 2s 899us/step - loss: 0.2708 - sparse_categorical_accuracy: 0.9017 - val_loss: 0.3128 - val_sparse_categorical_accuracy: 0.8848\n",
      "Epoch 21/30\n",
      "1719/1719 [==============================] - 2s 913us/step - loss: 0.2662 - sparse_categorical_accuracy: 0.9040 - val_loss: 0.3076 - val_sparse_categorical_accuracy: 0.8908\n",
      "Epoch 22/30\n",
      "1719/1719 [==============================] - 2s 921us/step - loss: 0.2612 - sparse_categorical_accuracy: 0.9048 - val_loss: 0.3062 - val_sparse_categorical_accuracy: 0.8902\n",
      "Epoch 23/30\n",
      "1719/1719 [==============================] - 2s 900us/step - loss: 0.2566 - sparse_categorical_accuracy: 0.9079 - val_loss: 0.3355 - val_sparse_categorical_accuracy: 0.8774\n",
      "Epoch 24/30\n",
      "1719/1719 [==============================] - 2s 883us/step - loss: 0.2520 - sparse_categorical_accuracy: 0.9085 - val_loss: 0.3004 - val_sparse_categorical_accuracy: 0.8918\n",
      "Epoch 25/30\n",
      "1719/1719 [==============================] - 2s 913us/step - loss: 0.2486 - sparse_categorical_accuracy: 0.9097 - val_loss: 0.3108 - val_sparse_categorical_accuracy: 0.8900\n",
      "Epoch 26/30\n",
      "1719/1719 [==============================] - 2s 962us/step - loss: 0.2440 - sparse_categorical_accuracy: 0.9117 - val_loss: 0.3080 - val_sparse_categorical_accuracy: 0.8884\n",
      "Epoch 27/30\n",
      "1719/1719 [==============================] - 2s 899us/step - loss: 0.2398 - sparse_categorical_accuracy: 0.9130 - val_loss: 0.3011 - val_sparse_categorical_accuracy: 0.8884\n",
      "Epoch 28/30\n",
      "1719/1719 [==============================] - 2s 896us/step - loss: 0.2355 - sparse_categorical_accuracy: 0.9154 - val_loss: 0.3082 - val_sparse_categorical_accuracy: 0.8904\n",
      "Epoch 29/30\n",
      "1719/1719 [==============================] - 2s 909us/step - loss: 0.2316 - sparse_categorical_accuracy: 0.9165 - val_loss: 0.3019 - val_sparse_categorical_accuracy: 0.8904\n",
      "Epoch 30/30\n",
      "1719/1719 [==============================] - 2s 914us/step - loss: 0.2288 - sparse_categorical_accuracy: 0.9156 - val_loss: 0.2967 - val_sparse_categorical_accuracy: 0.8910\n"
     ]
    }
   ],
   "source": [
    "history = model.fit(x_train,y_train,epochs=30,validation_data=(x_valid,y_valid))"
   ]
  },
  {
   "cell_type": "code",
   "execution_count": 55,
   "id": "0a42c3aa-273a-40bd-a3f9-a9c0a519102e",
   "metadata": {},
   "outputs": [
    {
     "name": "stdout",
     "output_type": "stream",
     "text": [
      "313/313 [==============================] - 0s 823us/step - loss: 72.8014 - sparse_categorical_accuracy: 0.8292\n"
     ]
    },
    {
     "data": {
      "text/plain": [
       "[72.80142211914062, 0.829200029373169]"
      ]
     },
     "execution_count": 55,
     "metadata": {},
     "output_type": "execute_result"
    }
   ],
   "source": [
    "model.evaluate(x_test,y_test)"
   ]
  },
  {
   "cell_type": "code",
   "execution_count": 57,
   "id": "c6814a05-9e0b-4126-abe7-e3c804292ad0",
   "metadata": {},
   "outputs": [],
   "source": [
    "import pandas as pd"
   ]
  },
  {
   "cell_type": "code",
   "execution_count": 59,
   "id": "7baaa131-ed68-4557-8de2-48995bf4fcd9",
   "metadata": {},
   "outputs": [],
   "source": [
    "df = pd.DataFrame(history.history)"
   ]
  },
  {
   "cell_type": "code",
   "execution_count": 60,
   "id": "5e2b6e60-4b3d-4f12-a40e-9657d088f123",
   "metadata": {},
   "outputs": [
    {
     "data": {
      "text/plain": [
       "<AxesSubplot:>"
      ]
     },
     "execution_count": 60,
     "metadata": {},
     "output_type": "execute_result"
    },
    {
     "data": {
      "image/png": "[encoded data removed]",
      "text/plain": [
       "<Figure size 576x360 with 1 Axes>"
      ]
     },
     "metadata": {
      "needs_background": "light"
     },
     "output_type": "display_data"
    }
   ],
   "source": [
    "df.plot(figsize=(8,5))"
   ]
  },
  {
   "cell_type": "code",
   "execution_count": null,
   "id": "4d6db527-424f-47d4-be51-c1d747e45bcb",
   "metadata": {},
   "outputs": [],
   "source": []
  },
  {
   "cell_type": "code",
   "execution_count": null,
   "id": "053e37bc-f7a7-4c6a-84ab-59d079f0069e",
   "metadata": {},
   "outputs": [],
   "source": []
  },
  {
   "cell_type": "code",
   "execution_count": null,
   "id": "29944cd5-41f2-4a5a-a46a-0ebfc5a159e8",
   "metadata": {},
   "outputs": [],
   "source": []
  },
  {
   "cell_type": "code",
   "execution_count": null,
   "id": "5125834b-11f1-4004-b260-48ed0357b538",
   "metadata": {},
   "outputs": [],
   "source": []
  },
  {
   "cell_type": "code",
   "execution_count": null,
   "id": "0c7ab06c-3e59-41de-993e-9e3de07d8359",
   "metadata": {},
   "outputs": [],
   "source": []
  },
  {
   "cell_type": "code",
   "execution_count": null,
   "id": "ff093bac-c805-463a-ab36-3530fa2af509",
   "metadata": {},
   "outputs": [],
   "source": []
  },
  {
   "cell_type": "code",
   "execution_count": null,
   "id": "be12a8a7-ca35-4649-8d1b-8804504bca35",
   "metadata": {},
   "outputs": [],
   "source": []
  },
  {
   "cell_type": "code",
   "execution_count": null,
   "id": "d802bd75-24bb-4e08-a2a1-15781af42310",
   "metadata": {},
   "outputs": [],
   "source": []
  },
  {
   "cell_type": "code",
   "execution_count": null,
   "id": "becdea4b-a6c0-419d-8e83-c0ac48c0d616",
   "metadata": {},
   "outputs": [],
   "source": []
  },
  {
   "cell_type": "code",
   "execution_count": null,
   "id": "054c0e04-d5b2-4fbc-b0fd-2378b147af4d",
   "metadata": {},
   "outputs": [],
   "source": []
  }
 ],
 "metadata": {
  "kernelspec": {
   "display_name": "Python 3 (ipykernel)",
   "language": "python",
   "name": "python3"
  },
  "language_info": {
   "codemirror_mode": {
    "name": "ipython",
    "version": 3
   },
   "file_extension": ".py",
   "mimetype": "text/x-python",
   "name": "python",
   "nbconvert_exporter": "python",
   "pygments_lexer": "ipython3",
   "version": "3.7.0"
  }
 },
 "nbformat": 4,
 "nbformat_minor": 5
}
