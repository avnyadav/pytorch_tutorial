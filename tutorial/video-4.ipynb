{
 "cells": [
  {
   "cell_type": "markdown",
   "metadata": {},
   "source": [
    "### PyTorch Tutorial 04 - Backpropagation - Theory With Example\n",
    "\n",
    "![image](https://user-images.githubusercontent.com/115451707/201968871-7def91c5-8f8e-495c-b9b5-954b20e64349.png)\n",
    "\n",
    "![image](https://user-images.githubusercontent.com/115451707/201969106-cc5769a9-e42b-4e48-8acd-84f01fe8425a.png)\n",
    "\n",
    "![image](https://user-images.githubusercontent.com/115451707/201969325-93346983-a8b0-486d-bdb7-f4ccad4dcc06.png)\n",
    "\n",
    "![image](https://user-images.githubusercontent.com/115451707/201969889-f736a08f-2241-48df-9c80-ce7dbe9b6952.png)\n",
    "\n",
    "![image](https://user-images.githubusercontent.com/115451707/201970071-bc4e8535-866e-4cef-a84d-df26c3c5d631.png)\n",
    "\n",
    "![image](https://user-images.githubusercontent.com/115451707/201970203-b0703d01-13e8-4b44-a9dc-79089cd4ee55.png)\n",
    "\n",
    "![image](https://user-images.githubusercontent.com/115451707/201970733-8d510e4c-56ce-4be2-bbde-4225ff6fb4d7.png)\n",
    "\n",
    "![image](https://user-images.githubusercontent.com/115451707/201971662-a4b7645b-a048-4400-a89b-142b3099c193.png)\n",
    "\n",
    "\n",
    "\n",
    "\n"
   ]
  },
  {
   "cell_type": "code",
   "execution_count": 3,
   "metadata": {},
   "outputs": [],
   "source": [
    "import torch"
   ]
  },
  {
   "cell_type": "code",
   "execution_count": 4,
   "metadata": {},
   "outputs": [],
   "source": [
    "x = torch.tensor(1.0)\n",
    "y= torch.tensor(2.0)"
   ]
  },
  {
   "cell_type": "code",
   "execution_count": 6,
   "metadata": {},
   "outputs": [],
   "source": [
    "w = torch.tensor(1.0,requires_grad=True)"
   ]
  },
  {
   "cell_type": "code",
   "execution_count": 7,
   "metadata": {},
   "outputs": [],
   "source": [
    "#forward pass and compute loss\n",
    "\n",
    "y_hat = w*x\n",
    "loss = (y_hat-y)**2"
   ]
  },
  {
   "cell_type": "code",
   "execution_count": 8,
   "metadata": {},
   "outputs": [
    {
     "data": {
      "text/plain": [
       "tensor(1., grad_fn=<PowBackward0>)"
      ]
     },
     "execution_count": 8,
     "metadata": {},
     "output_type": "execute_result"
    }
   ],
   "source": [
    "loss"
   ]
  },
  {
   "cell_type": "code",
   "execution_count": 9,
   "metadata": {},
   "outputs": [],
   "source": [
    "#backword pass"
   ]
  },
  {
   "cell_type": "code",
   "execution_count": 10,
   "metadata": {},
   "outputs": [
    {
     "data": {
      "text/plain": [
       "tensor(-2.)"
      ]
     },
     "execution_count": 10,
     "metadata": {},
     "output_type": "execute_result"
    }
   ],
   "source": [
    "loss.backward()\n",
    "w.grad"
   ]
  },
  {
   "cell_type": "code",
   "execution_count": 11,
   "metadata": {},
   "outputs": [],
   "source": [
    "## update the weight"
   ]
  },
  {
   "cell_type": "code",
   "execution_count": null,
   "metadata": {},
   "outputs": [],
   "source": []
  }
 ],
 "metadata": {
  "kernelspec": {
   "display_name": "Python 3.7.0",
   "language": "python",
   "name": "python3"
  },
  "language_info": {
   "codemirror_mode": {
    "name": "ipython",
    "version": 3
   },
   "file_extension": ".py",
   "mimetype": "text/x-python",
   "name": "python",
   "nbconvert_exporter": "python",
   "pygments_lexer": "ipython3",
   "version": "3.7.0"
  },
  "orig_nbformat": 4,
  "vscode": {
   "interpreter": {
    "hash": "6f713f315a61f32796f1a86883bc92bc1204433f62beffaf5b39133fbf5ff18e"
   }
  }
 },
 "nbformat": 4,
 "nbformat_minor": 2
}
