{
 "cells": [
  {
   "cell_type": "code",
   "execution_count": 1,
   "metadata": {},
   "outputs": [],
   "source": [
    "import torch \n",
    "import torchvision \n",
    "from torch.utils.data import Dataset,DataLoader \n",
    "import numpy as np "
   ]
  },
  {
   "cell_type": "code",
   "execution_count": 10,
   "metadata": {},
   "outputs": [],
   "source": [
    "class WineDatset(Dataset):\n",
    "\n",
    "    def __init__(self) -> None:\n",
    "        super().__init__()\n",
    "        xy  = np.loadtxt(\"../wine.csv\",delimiter=\",\",dtype = np.float32,skiprows=1)\n",
    "        self.x = torch.from_numpy(xy[:,1:])\n",
    "        self.y = torch.from_numpy(xy[:,:1])\n",
    "        self.n_samples = xy.shape[0]\n",
    "\n",
    "    \n",
    "    def __len__(self):\n",
    "        return self.n_samples\n",
    "\n",
    "\n",
    "    \n",
    "    def __getitem__(self, index):\n",
    "        return self.x[index],self.y[index]\n",
    "\n",
    "\n",
    "\n",
    "\n",
    "\n",
    "\n",
    "\n"
   ]
  },
  {
   "cell_type": "code",
   "execution_count": 11,
   "metadata": {},
   "outputs": [],
   "source": [
    "dataset = WineDatset()"
   ]
  },
  {
   "cell_type": "code",
   "execution_count": 12,
   "metadata": {},
   "outputs": [],
   "source": [
    "first_dataset = dataset[0]"
   ]
  },
  {
   "cell_type": "code",
   "execution_count": 14,
   "metadata": {},
   "outputs": [
    {
     "data": {
      "text/plain": [
       "(tensor([1.4230e+01, 1.7100e+00, 2.4300e+00, 1.5600e+01, 1.2700e+02, 2.8000e+00,\n",
       "         3.0600e+00, 2.8000e-01, 2.2900e+00, 5.6400e+00, 1.0400e+00, 3.9200e+00,\n",
       "         1.0650e+03]),\n",
       " tensor([1.]))"
      ]
     },
     "execution_count": 14,
     "metadata": {},
     "output_type": "execute_result"
    }
   ],
   "source": [
    "features,label = first_dataset\n",
    "features,label"
   ]
  },
  {
   "cell_type": "code",
   "execution_count": 19,
   "metadata": {},
   "outputs": [
    {
     "data": {
      "text/plain": [
       "[tensor([[1.3490e+01, 3.5900e+00, 2.1900e+00, 1.9500e+01, 8.8000e+01, 1.6200e+00,\n",
       "          4.8000e-01, 5.8000e-01, 8.8000e-01, 5.7000e+00, 8.1000e-01, 1.8200e+00,\n",
       "          5.8000e+02],\n",
       "         [1.3110e+01, 1.9000e+00, 2.7500e+00, 2.5500e+01, 1.1600e+02, 2.2000e+00,\n",
       "          1.2800e+00, 2.6000e-01, 1.5600e+00, 7.1000e+00, 6.1000e-01, 1.3300e+00,\n",
       "          4.2500e+02],\n",
       "         [1.2370e+01, 1.6300e+00, 2.3000e+00, 2.4500e+01, 8.8000e+01, 2.2200e+00,\n",
       "          2.4500e+00, 4.0000e-01, 1.9000e+00, 2.1200e+00, 8.9000e-01, 2.7800e+00,\n",
       "          3.4200e+02],\n",
       "         [1.4210e+01, 4.0400e+00, 2.4400e+00, 1.8900e+01, 1.1100e+02, 2.8500e+00,\n",
       "          2.6500e+00, 3.0000e-01, 1.2500e+00, 5.2400e+00, 8.7000e-01, 3.3300e+00,\n",
       "          1.0800e+03]]),\n",
       " tensor([[3.],\n",
       "         [3.],\n",
       "         [2.],\n",
       "         [1.]])]"
      ]
     },
     "execution_count": 19,
     "metadata": {},
     "output_type": "execute_result"
    }
   ],
   "source": [
    "dataloader = DataLoader(dataset = dataset,batch_size=4,shuffle=True)\n",
    "\n",
    "dataiter = iter(dataloader)\n",
    "\n",
    "data = next(dataiter)\n",
    "\n",
    "data\n",
    "\n",
    "\n"
   ]
  },
  {
   "cell_type": "code",
   "execution_count": 20,
   "metadata": {},
   "outputs": [],
   "source": [
    "## dummy training loop\n",
    "import math\n",
    "num_epochs = 2 \n",
    "total_samples = len(dataset)\n",
    "\n",
    "n_iteration = math.ceil(total_samples/4)"
   ]
  },
  {
   "cell_type": "code",
   "execution_count": 21,
   "metadata": {},
   "outputs": [
    {
     "name": "stdout",
     "output_type": "stream",
     "text": [
      "Epoch: 1/2,steps 1/45, inputs: torch.Size([4, 13]) \n",
      "Epoch: 1/2,steps 6/45, inputs: torch.Size([4, 13]) \n",
      "Epoch: 1/2,steps 11/45, inputs: torch.Size([4, 13]) \n",
      "Epoch: 1/2,steps 16/45, inputs: torch.Size([4, 13]) \n",
      "Epoch: 1/2,steps 21/45, inputs: torch.Size([4, 13]) \n",
      "Epoch: 1/2,steps 26/45, inputs: torch.Size([4, 13]) \n",
      "Epoch: 1/2,steps 31/45, inputs: torch.Size([4, 13]) \n",
      "Epoch: 1/2,steps 36/45, inputs: torch.Size([4, 13]) \n",
      "Epoch: 1/2,steps 41/45, inputs: torch.Size([4, 13]) \n",
      "Epoch: 2/2,steps 1/45, inputs: torch.Size([4, 13]) \n",
      "Epoch: 2/2,steps 6/45, inputs: torch.Size([4, 13]) \n",
      "Epoch: 2/2,steps 11/45, inputs: torch.Size([4, 13]) \n",
      "Epoch: 2/2,steps 16/45, inputs: torch.Size([4, 13]) \n",
      "Epoch: 2/2,steps 21/45, inputs: torch.Size([4, 13]) \n",
      "Epoch: 2/2,steps 26/45, inputs: torch.Size([4, 13]) \n",
      "Epoch: 2/2,steps 31/45, inputs: torch.Size([4, 13]) \n",
      "Epoch: 2/2,steps 36/45, inputs: torch.Size([4, 13]) \n",
      "Epoch: 2/2,steps 41/45, inputs: torch.Size([4, 13]) \n"
     ]
    }
   ],
   "source": [
    "for epoch in range(num_epochs):\n",
    "\n",
    "    for i, (inputs,labels) in enumerate(dataloader):\n",
    "        # forward backword , update\n",
    "        if i%5==0:\n",
    "            print(f\"Epoch: {epoch+1}/{num_epochs},steps {i+1}/{n_iteration}, inputs: {inputs.shape} \")"
   ]
  },
  {
   "cell_type": "code",
   "execution_count": null,
   "metadata": {},
   "outputs": [],
   "source": [
    "torchvision.datasets.MNIST()\n",
    "torchvision.datasets.FashionMNIST()"
   ]
  }
 ],
 "metadata": {
  "kernelspec": {
   "display_name": "Python 3.7.0 (conda)",
   "language": "python",
   "name": "python3"
  },
  "language_info": {
   "codemirror_mode": {
    "name": "ipython",
    "version": 3
   },
   "file_extension": ".py",
   "mimetype": "text/x-python",
   "name": "python",
   "nbconvert_exporter": "python",
   "pygments_lexer": "ipython3",
   "version": "3.8.0"
  },
  "orig_nbformat": 4,
  "vscode": {
   "interpreter": {
    "hash": "6f713f315a61f32796f1a86883bc92bc1204433f62beffaf5b39133fbf5ff18e"
   }
  }
 },
 "nbformat": 4,
 "nbformat_minor": 2
}
