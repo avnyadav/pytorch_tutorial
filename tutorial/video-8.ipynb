{
 "cells": [
  {
   "cell_type": "markdown",
   "metadata": {},
   "source": [
    "## PyTorch Tutorial 08 - Logistic Regression"
   ]
  },
  {
   "cell_type": "code",
   "execution_count": 1,
   "metadata": {},
   "outputs": [],
   "source": [
    "# Design model (input, output,forward pass)\n",
    "# Construct loss and optimizer\n",
    "# Training loop\n",
    "\n",
    "# - forward pass: compute prediction and loss\n",
    "# -  backward pass gradients\n",
    "# -  update weights"
   ]
  },
  {
   "cell_type": "code",
   "execution_count": 7,
   "metadata": {},
   "outputs": [],
   "source": [
    "import torch\n",
    "import torch.nn  as nn \n",
    "import numpy as np \n",
    "from sklearn import datasets \n",
    "from sklearn.preprocessing import StandardScaler\n",
    "from sklearn.model_selection import train_test_split"
   ]
  },
  {
   "cell_type": "code",
   "execution_count": 8,
   "metadata": {},
   "outputs": [],
   "source": [
    "from sklearn.metrics import accuracy_score,f1_score"
   ]
  },
  {
   "cell_type": "code",
   "execution_count": 11,
   "metadata": {},
   "outputs": [
    {
     "name": "stdout",
     "output_type": "stream",
     "text": [
      "records: 569, features: 30\n",
      "Epoch: 1 loss: 0.5531\n",
      "Epoch: 11 loss: 0.5427\n",
      "Epoch: 21 loss: 0.5327\n",
      "Epoch: 31 loss: 0.5232\n",
      "Epoch: 41 loss: 0.5141\n",
      "Epoch: 51 loss: 0.5054\n",
      "Epoch: 61 loss: 0.4971\n",
      "Epoch: 71 loss: 0.4891\n",
      "Epoch: 81 loss: 0.4815\n",
      "Epoch: 91 loss: 0.4741\n",
      "accuracy: 0.8860\n"
     ]
    }
   ],
   "source": [
    "#prepare the data\n",
    "\n",
    "bc = datasets.load_breast_cancer()\n",
    "x,y = bc.data,bc.target\n",
    "\n",
    "n_samples,n_features = x.shape\n",
    "print(f\"records: {n_samples}, features: {n_features}\")\n",
    "x_train,x_test,y_train,y_test = train_test_split(x,y,test_size=0.2,random_state=1234)\n",
    "\n",
    "#scale\n",
    "\n",
    "sc  =StandardScaler()\n",
    "sc.fit(x_train)\n",
    "x_train = sc.transform(x_train)\n",
    "x_test = sc.transform(x_test)\n",
    "\n",
    "x_train = torch.from_numpy(x_train.astype(np.float32))\n",
    "x_test = torch.from_numpy(x_test.astype(np.float32))\n",
    "y_train = torch.from_numpy(y_train.astype(np.float32))\n",
    "y_test = torch.from_numpy(y_test.astype(np.float32))\n",
    "\n",
    "y_train = y_train.view(-1,1)\n",
    "y_test = y_test.view(-1,1)\n",
    "# model\n",
    "# f = sig(w*x+b)\n",
    "\n",
    "class LogisticRegressionModel(nn.Module):\n",
    "\n",
    "    def __init__(self,input_size,output_size) -> None:\n",
    "        super(LogisticRegressionModel,self).__init__()\n",
    "        self.linear = nn.Linear(in_features=input_size,out_features=output_size)\n",
    "    \n",
    "    def forward(self,x):\n",
    "        y_pred = torch.sigmoid(self.linear(x))\n",
    "        return y_pred\n",
    "    \n",
    "n_sample ,n_features = x.shape\n",
    "model = LogisticRegressionModel(input_size=n_features,output_size=1)\n",
    "\n",
    "\n",
    "# loss and optimizer\n",
    "\n",
    "criterion = nn.BCELoss()\n",
    "lr= 0.001\n",
    "optimizer = torch.optim.SGD(model.parameters(),lr = lr)\n",
    "#training loop\n",
    "num_epoch = 100\n",
    "for epoch in range(num_epoch):\n",
    "    #forwards pass\n",
    "    y_predicted = model(x_train)\n",
    "\n",
    "    #backward pass\n",
    "    loss = criterion(y_predicted,y_train)\n",
    "    loss.backward()\n",
    "\n",
    "    #updates\n",
    "    optimizer.step()\n",
    "\n",
    "    optimizer.zero_grad()\n",
    "\n",
    "    if epoch%10==0:\n",
    "        print(f\"Epoch: {epoch+1} loss: {loss.item():.4f}\")\n",
    "    \n",
    "with torch.no_grad():\n",
    "    y_predicted = model(x_test)\n",
    "\n",
    "    #y_predicted is sigmoid i.e proba\n",
    "    y_predicted_cls = y_predicted.round()\n",
    "\n",
    "    acc = y_predicted_cls.eq(y_test).sum()/float(y_test.shape[0])\n",
    "    print(f\"accuracy: {acc:.4f}\")\n",
    "\n"
   ]
  },
  {
   "cell_type": "code",
   "execution_count": null,
   "metadata": {},
   "outputs": [],
   "source": []
  }
 ],
 "metadata": {
  "kernelspec": {
   "display_name": "Python 3.7.0 (conda)",
   "language": "python",
   "name": "python3"
  },
  "language_info": {
   "codemirror_mode": {
    "name": "ipython",
    "version": 3
   },
   "file_extension": ".py",
   "mimetype": "text/x-python",
   "name": "python",
   "nbconvert_exporter": "python",
   "pygments_lexer": "ipython3",
   "version": "3.7.0"
  },
  "orig_nbformat": 4,
  "vscode": {
   "interpreter": {
    "hash": "6f713f315a61f32796f1a86883bc92bc1204433f62beffaf5b39133fbf5ff18e"
   }
  }
 },
 "nbformat": 4,
 "nbformat_minor": 2
}
