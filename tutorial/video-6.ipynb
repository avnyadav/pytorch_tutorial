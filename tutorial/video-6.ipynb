{
 "cells": [
  {
   "cell_type": "markdown",
   "metadata": {},
   "source": [
    "## PyTorch Tutorial 06 - Training Pipeline: Model, Loss, and Optimizer"
   ]
  },
  {
   "cell_type": "code",
   "execution_count": 16,
   "metadata": {},
   "outputs": [],
   "source": [
    "# 1) Design model (input,output,forward pass)\n",
    "# 2) Construct loss and optimizer\n",
    "# 3) Training loop\n",
    "\n",
    "# - forward pass: compute prediction\n",
    "# -  backward pass: gradents\n",
    "# - update weights\n",
    "import torch\n",
    "import torch.nn as nn\n"
   ]
  },
  {
   "cell_type": "code",
   "execution_count": 17,
   "metadata": {},
   "outputs": [],
   "source": [
    "x = torch.tensor([1,2,3,4],dtype=torch.float32)\n",
    "y = torch.tensor([2,4,6,8],dtype=torch.float32)\n",
    "x = x.view(-1,1)\n",
    "y = y.view(-1,1)"
   ]
  },
  {
   "cell_type": "code",
   "execution_count": 18,
   "metadata": {},
   "outputs": [
    {
     "data": {
      "text/plain": [
       "(tensor([[1.],\n",
       "         [2.],\n",
       "         [3.],\n",
       "         [4.]]),\n",
       " tensor([[2.],\n",
       "         [4.],\n",
       "         [6.],\n",
       "         [8.]]))"
      ]
     },
     "execution_count": 18,
     "metadata": {},
     "output_type": "execute_result"
    }
   ],
   "source": [
    "x,y"
   ]
  },
  {
   "cell_type": "code",
   "execution_count": 19,
   "metadata": {},
   "outputs": [
    {
     "data": {
      "text/plain": [
       "(4, 1)"
      ]
     },
     "execution_count": 19,
     "metadata": {},
     "output_type": "execute_result"
    }
   ],
   "source": [
    "n_samples,n_features = x.shape\n",
    "n_samples,n_features "
   ]
  },
  {
   "cell_type": "code",
   "execution_count": 20,
   "metadata": {},
   "outputs": [],
   "source": [
    "x_test = torch.tensor([5],dtype=torch.float32)"
   ]
  },
  {
   "cell_type": "code",
   "execution_count": 21,
   "metadata": {},
   "outputs": [],
   "source": [
    "\n",
    "# w = torch.tensor(0.0,dtype=torch.float32,requires_grad=True)\n",
    "\n",
    "# def forward(x):\n",
    "#     return w*x\n",
    "input_size = n_features\n",
    "output_size = n_features\n",
    "model = nn.Linear(in_features=input_size,out_features= output_size)"
   ]
  },
  {
   "cell_type": "code",
   "execution_count": 24,
   "metadata": {},
   "outputs": [],
   "source": [
    "class LinearRegression(nn.Module):\n",
    "\n",
    "    def __init__(self,input_dim,output_dim):\n",
    "        super(LinearRegression,self).__init__()\n",
    "        #define our layers\n",
    "\n",
    "        self.lin = nn.Linear(input_dim,output_dim)\n",
    "\n",
    "    def forward(self,x):\n",
    "        return self.lin(x)\n",
    "    \n",
    "model = LinearRegression(input_dim=input_size,output_dim=output_size)\n"
   ]
  },
  {
   "cell_type": "code",
   "execution_count": 26,
   "metadata": {},
   "outputs": [],
   "source": [
    "loss = nn.MSELoss()\n",
    "lr = 0.01\n",
    "optimizer  = torch.optim.SGD(model.parameters(),lr=lr)"
   ]
  },
  {
   "cell_type": "code",
   "execution_count": 27,
   "metadata": {},
   "outputs": [
    {
     "name": "stdout",
     "output_type": "stream",
     "text": [
      "prediction before training: model(tensor([5.])) = -2.366\n",
      "epoch 1: w=7.398, loss = 46.52743530 \n",
      "epoch 3: w=5.686, loss = 202.69882202 \n",
      "epoch 5: w=4.497, loss = 97.62223816 \n",
      "epoch 7: w=3.673, loss = 47.03089905 \n",
      "epoch 9: w=3.102, loss = 22.67244148 \n",
      "epoch 11: w=2.706, loss = 10.94428253 \n",
      "epoch 13: w=2.431, loss = 5.29721355 \n",
      "epoch 15: w=2.241, loss = 2.57799911 \n",
      "epoch 17: w=2.110, loss = 1.26845837 \n",
      "epoch 19: w=2.019, loss = 0.63763088 \n",
      "prediction after training: model(tensor([5.])) = 10.538\n"
     ]
    }
   ],
   "source": [
    "n_iters=20\n",
    "print(f\"prediction before training: model({x_test}) = {model(x_test).item():.3f}\")\n",
    "for epoch in range(n_iters):\n",
    "\n",
    "    y_pred = model(x)\n",
    "    l  = loss(y,y_pred)\n",
    "\n",
    "    #compute gradient\n",
    "    l.backward() #dl/dw\n",
    "\n",
    "    #update the wight\n",
    "    optimizer.step()\n",
    "\n",
    "    optimizer.zero_grad()\n",
    "\n",
    "    if epoch%2==0:\n",
    "        [w,b] = model.parameters()\n",
    "        print(f\"epoch {epoch+1}: w={w[0].item():.3f}, loss = {l:.8f} \")\n",
    "\n",
    "print(f\"prediction after training: model({x_test}) = {model(x_test).item():.3f}\")\n",
    "\n"
   ]
  },
  {
   "cell_type": "code",
   "execution_count": null,
   "metadata": {},
   "outputs": [],
   "source": []
  }
 ],
 "metadata": {
  "kernelspec": {
   "display_name": "Python 3.7.0 (conda)",
   "language": "python",
   "name": "python3"
  },
  "language_info": {
   "codemirror_mode": {
    "name": "ipython",
    "version": 3
   },
   "file_extension": ".py",
   "mimetype": "text/x-python",
   "name": "python",
   "nbconvert_exporter": "python",
   "pygments_lexer": "ipython3",
   "version": "3.7.0"
  },
  "orig_nbformat": 4,
  "vscode": {
   "interpreter": {
    "hash": "6f713f315a61f32796f1a86883bc92bc1204433f62beffaf5b39133fbf5ff18e"
   }
  }
 },
 "nbformat": 4,
 "nbformat_minor": 2
}
